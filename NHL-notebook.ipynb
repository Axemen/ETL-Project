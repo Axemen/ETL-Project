{
 "cells": [
  {
   "cell_type": "code",
   "execution_count": 1,
   "metadata": {},
   "outputs": [],
   "source": [
    "import pandas as pd\n",
    "from splinter import Browser\n",
    "from bs4 import BeautifulSoup\n",
    "import tqdm\n",
    "import sys\n",
    "import sqlite3\n",
    "from sqlite3 import Error\n",
    "from sqlalchemy import create_engine\n",
    "from sqlalchemy.ext.declarative import declarative_base\n",
    "from sqlalchemy import Column, Integer, String, Float"
   ]
  },
  {
   "cell_type": "code",
   "execution_count": 2,
   "metadata": {},
   "outputs": [],
   "source": [
    "# read csv from player_info\n",
    "df = pd.read_csv('player_info.csv')"
   ]
  },
  {
   "cell_type": "code",
   "execution_count": 3,
   "metadata": {},
   "outputs": [
    {
     "data": {
      "text/html": [
       "<div>\n",
       "<style scoped>\n",
       "    .dataframe tbody tr th:only-of-type {\n",
       "        vertical-align: middle;\n",
       "    }\n",
       "\n",
       "    .dataframe tbody tr th {\n",
       "        vertical-align: top;\n",
       "    }\n",
       "\n",
       "    .dataframe thead th {\n",
       "        text-align: right;\n",
       "    }\n",
       "</style>\n",
       "<table border=\"1\" class=\"dataframe\">\n",
       "  <thead>\n",
       "    <tr style=\"text-align: right;\">\n",
       "      <th></th>\n",
       "      <th>player_id</th>\n",
       "      <th>firstName</th>\n",
       "      <th>lastName</th>\n",
       "      <th>nationality</th>\n",
       "      <th>birthCity</th>\n",
       "      <th>primaryPosition</th>\n",
       "      <th>birthDate</th>\n",
       "      <th>link</th>\n",
       "      <th>name</th>\n",
       "    </tr>\n",
       "  </thead>\n",
       "  <tbody>\n",
       "    <tr>\n",
       "      <th>0</th>\n",
       "      <td>8467412</td>\n",
       "      <td>Alexei</td>\n",
       "      <td>Ponikarovsky</td>\n",
       "      <td>UKR</td>\n",
       "      <td>Kiev</td>\n",
       "      <td>LW</td>\n",
       "      <td>1980-04-09</td>\n",
       "      <td>/api/v1/people/8467412</td>\n",
       "      <td>Alexei Ponikarovsky</td>\n",
       "    </tr>\n",
       "    <tr>\n",
       "      <th>1</th>\n",
       "      <td>8468501</td>\n",
       "      <td>Anton</td>\n",
       "      <td>Volchenkov</td>\n",
       "      <td>RUS</td>\n",
       "      <td>Moscow</td>\n",
       "      <td>D</td>\n",
       "      <td>1982-02-25</td>\n",
       "      <td>/api/v1/people/8468501</td>\n",
       "      <td>Anton Volchenkov</td>\n",
       "    </tr>\n",
       "    <tr>\n",
       "      <th>2</th>\n",
       "      <td>8459670</td>\n",
       "      <td>Kimmo</td>\n",
       "      <td>Timonen</td>\n",
       "      <td>FIN</td>\n",
       "      <td>Kuopio</td>\n",
       "      <td>D</td>\n",
       "      <td>1975-03-18</td>\n",
       "      <td>/api/v1/people/8459670</td>\n",
       "      <td>Kimmo Timonen</td>\n",
       "    </tr>\n",
       "    <tr>\n",
       "      <th>3</th>\n",
       "      <td>8471233</td>\n",
       "      <td>Travis</td>\n",
       "      <td>Zajac</td>\n",
       "      <td>CAN</td>\n",
       "      <td>Winnipeg</td>\n",
       "      <td>C</td>\n",
       "      <td>1985-05-13</td>\n",
       "      <td>/api/v1/people/8471233</td>\n",
       "      <td>Travis Zajac</td>\n",
       "    </tr>\n",
       "    <tr>\n",
       "      <th>4</th>\n",
       "      <td>8455710</td>\n",
       "      <td>Martin</td>\n",
       "      <td>Brodeur</td>\n",
       "      <td>CAN</td>\n",
       "      <td>Montreal</td>\n",
       "      <td>G</td>\n",
       "      <td>1972-05-06</td>\n",
       "      <td>/api/v1/people/8455710</td>\n",
       "      <td>Martin Brodeur</td>\n",
       "    </tr>\n",
       "  </tbody>\n",
       "</table>\n",
       "</div>"
      ],
      "text/plain": [
       "   player_id firstName      lastName nationality birthCity primaryPosition  \\\n",
       "0    8467412    Alexei  Ponikarovsky         UKR      Kiev              LW   \n",
       "1    8468501     Anton    Volchenkov         RUS    Moscow               D   \n",
       "2    8459670     Kimmo       Timonen         FIN    Kuopio               D   \n",
       "3    8471233    Travis         Zajac         CAN  Winnipeg               C   \n",
       "4    8455710    Martin       Brodeur         CAN  Montreal               G   \n",
       "\n",
       "    birthDate                    link                 name  \n",
       "0  1980-04-09  /api/v1/people/8467412  Alexei Ponikarovsky  \n",
       "1  1982-02-25  /api/v1/people/8468501     Anton Volchenkov  \n",
       "2  1975-03-18  /api/v1/people/8459670        Kimmo Timonen  \n",
       "3  1985-05-13  /api/v1/people/8471233         Travis Zajac  \n",
       "4  1972-05-06  /api/v1/people/8455710       Martin Brodeur  "
      ]
     },
     "execution_count": 3,
     "metadata": {},
     "output_type": "execute_result"
    }
   ],
   "source": [
    "# create \"name\" column\n",
    "df['name'] = df['firstName'] + \" \" + df['lastName']\n",
    "df.head()"
   ]
  },
  {
   "cell_type": "code",
   "execution_count": 4,
   "metadata": {},
   "outputs": [],
   "source": [
    "# scrap data by beautiful soup \n",
    "browser = Browser('chrome', headless = True)"
   ]
  },
  {
   "cell_type": "code",
   "execution_count": 5,
   "metadata": {},
   "outputs": [],
   "source": [
    "headlines = []"
   ]
  },
  {
   "cell_type": "code",
   "execution_count": 6,
   "metadata": {},
   "outputs": [],
   "source": [
    "browser.visit('https://www.reuters.com/news/archive/icehockey-nhl?view=page&page=1&pageSize=10')"
   ]
  },
  {
   "cell_type": "code",
   "execution_count": 7,
   "metadata": {},
   "outputs": [],
   "source": [
    "soup = BeautifulSoup(browser.html, 'html.parser')"
   ]
  },
  {
   "cell_type": "code",
   "execution_count": 8,
   "metadata": {},
   "outputs": [
    {
     "data": {
      "text/plain": [
       "'Rask, Bruins close out Jackets in Game 6'"
      ]
     },
     "execution_count": 8,
     "metadata": {},
     "output_type": "execute_result"
    }
   ],
   "source": [
    "hls = soup.find_all(class_ = \"story-title\")\n",
    "hls[3].text.replace(\"\\n\", \"\").replace('\\t', \"\")"
   ]
  },
  {
   "cell_type": "code",
   "execution_count": 9,
   "metadata": {},
   "outputs": [],
   "source": [
    "\n",
    "for i in range(len(hls)):\n",
    "    headlines.append(hls[i].text.replace(\"\\n\", \"\").replace('\\t', \"\"))\n"
   ]
  },
  {
   "cell_type": "code",
   "execution_count": 10,
   "metadata": {},
   "outputs": [],
   "source": [
    "browser.click_link_by_partial_text('Earlier')"
   ]
  },
  {
   "cell_type": "code",
   "execution_count": 11,
   "metadata": {},
   "outputs": [
    {
     "name": "stderr",
     "output_type": "stream",
     "text": [
      "  2%|▏         | 24/1000 [01:12<47:32,  2.92s/it] "
     ]
    },
    {
     "name": "stdout",
     "output_type": "stream",
     "text": [
      "Message: timeout\n",
      "  (Session info: headless chrome=74.0.3729.131)\n",
      "  (Driver info: chromedriver=74.0.3729.6 (255758eccf3d244491b8a1317aa76e1ce10d57e9-refs/branch-heads/3729@{#29}),platform=Mac OS X 10.14.4 x86_64)\n",
      "\n"
     ]
    }
   ],
   "source": [
    "for i in tqdm.tqdm(range(1000)):\n",
    "    soup = BeautifulSoup(browser.html, 'html.parser')\n",
    "    hls = soup.find_all(class_ = \"story-title\")\n",
    "    for i in range(len(hls)):\n",
    "        headlines.append(hls[i].text.replace(\"\\n\", \"\").replace('\\t', \"\"))\n",
    "    try:\n",
    "        browser.click_link_by_partial_text('Earlier')\n",
    "    except Exception as e:\n",
    "        print(e)\n",
    "        break"
   ]
  },
  {
   "cell_type": "code",
   "execution_count": 12,
   "metadata": {},
   "outputs": [
    {
     "data": {
      "text/plain": [
       "338"
      ]
     },
     "execution_count": 12,
     "metadata": {},
     "output_type": "execute_result"
    }
   ],
   "source": [
    "len(headlines)"
   ]
  },
  {
   "cell_type": "code",
   "execution_count": 13,
   "metadata": {},
   "outputs": [],
   "source": [
    "# with open(\"headlines.txt\", \"w\") as f:\n",
    "#     for s in headlines:\n",
    "#         f.write(str(s) +\"\\n\")"
   ]
  },
  {
   "cell_type": "code",
   "execution_count": 14,
   "metadata": {},
   "outputs": [
    {
     "ename": "NameError",
     "evalue": "name 'temp' is not defined",
     "output_type": "error",
     "traceback": [
      "\u001b[0;31m---------------------------------------------------------------------------\u001b[0m",
      "\u001b[0;31mNameError\u001b[0m                                 Traceback (most recent call last)",
      "\u001b[0;32m<ipython-input-14-f64eccfe07a2>\u001b[0m in \u001b[0;36m<module>\u001b[0;34m()\u001b[0m\n\u001b[0;32m----> 1\u001b[0;31m \u001b[0mheadlines_df\u001b[0m \u001b[0;34m=\u001b[0m \u001b[0mpd\u001b[0m\u001b[0;34m.\u001b[0m\u001b[0mDataFrame\u001b[0m\u001b[0;34m(\u001b[0m\u001b[0mdata\u001b[0m\u001b[0;34m=\u001b[0m\u001b[0mtemp\u001b[0m\u001b[0;34m)\u001b[0m\u001b[0;34m\u001b[0m\u001b[0;34m\u001b[0m\u001b[0m\n\u001b[0m\u001b[1;32m      2\u001b[0m \u001b[0mheadlines_df\u001b[0m\u001b[0;34m.\u001b[0m\u001b[0mto_csv\u001b[0m\u001b[0;34m(\u001b[0m\u001b[0;34m'headlines.csv'\u001b[0m\u001b[0;34m)\u001b[0m\u001b[0;34m\u001b[0m\u001b[0;34m\u001b[0m\u001b[0m\n",
      "\u001b[0;31mNameError\u001b[0m: name 'temp' is not defined"
     ]
    }
   ],
   "source": [
    "# convert dataframe headlines to csv file and save it\n",
    "headlines_df = pd.DataFrame(data=temp)\n",
    "headlines_df.to_csv('headlines.csv')"
   ]
  },
  {
   "cell_type": "code",
   "execution_count": null,
   "metadata": {},
   "outputs": [],
   "source": [
    "temp = []"
   ]
  },
  {
   "cell_type": "code",
   "execution_count": null,
   "metadata": {},
   "outputs": [],
   "source": [
    "with open(\"headlines.txt\", \"r\") as f:\n",
    "    for line in f:\n",
    "        temp.append(line.strip())"
   ]
  },
  {
   "cell_type": "code",
   "execution_count": null,
   "metadata": {},
   "outputs": [],
   "source": [
    "temp.pop(383)"
   ]
  },
  {
   "cell_type": "code",
   "execution_count": null,
   "metadata": {},
   "outputs": [],
   "source": [
    "temp[383]"
   ]
  },
  {
   "cell_type": "code",
   "execution_count": null,
   "metadata": {},
   "outputs": [],
   "source": [
    "temp.pop(383)"
   ]
  },
  {
   "cell_type": "code",
   "execution_count": null,
   "metadata": {},
   "outputs": [],
   "source": [
    "df"
   ]
  },
  {
   "cell_type": "code",
   "execution_count": null,
   "metadata": {},
   "outputs": [],
   "source": [
    "df['headlines'] = '0'"
   ]
  },
  {
   "cell_type": "code",
   "execution_count": null,
   "metadata": {},
   "outputs": [],
   "source": [
    "headlines_list = temp"
   ]
  },
  {
   "cell_type": "code",
   "execution_count": null,
   "metadata": {},
   "outputs": [],
   "source": [
    "player_count = 0\n",
    "for i in tqdm.tqdm(range(len(df))):\n",
    "    last_name = df.iloc[i, 2]\n",
    "    for j in range(len(headlines_list)):\n",
    "        if last_name in headlines_list[j]:\n",
    "            player_count += 1\n",
    "    df.iat[i,9] = int(df.iat[0, 9]) + player_count\n",
    "    player_count = 0"
   ]
  },
  {
   "cell_type": "code",
   "execution_count": null,
   "metadata": {},
   "outputs": [],
   "source": [
    "df.iat[0, 9] = int(df.iat[0, 9]) + 1"
   ]
  },
  {
   "cell_type": "code",
   "execution_count": null,
   "metadata": {},
   "outputs": [],
   "source": [
    "df.to_csv('players_headlines.csv')"
   ]
  },
  {
   "cell_type": "code",
   "execution_count": null,
   "metadata": {},
   "outputs": [],
   "source": [
    "if 'Williams' in 'Williams, Hurricanes top Islanders for 3-0 series lead':\n",
    "    player_count += 1"
   ]
  },
  {
   "cell_type": "code",
   "execution_count": null,
   "metadata": {},
   "outputs": [],
   "source": [
    "player_count"
   ]
  },
  {
   "cell_type": "code",
   "execution_count": null,
   "metadata": {},
   "outputs": [],
   "source": [
    "headlines_list"
   ]
  },
  {
   "cell_type": "code",
   "execution_count": null,
   "metadata": {},
   "outputs": [],
   "source": [
    "def create_connection(db_file):\n",
    "    \"\"\" create a database connection to a SQLite database \"\"\"\n",
    "    try:\n",
    "        conn = sqlite3.connect(db_file)\n",
    "        print(sqlite3.version)\n",
    "    except Error as e:\n",
    "        print(e)\n",
    "    finally:\n",
    "        conn.close()"
   ]
  },
  {
   "cell_type": "code",
   "execution_count": null,
   "metadata": {},
   "outputs": [],
   "source": [
    "conn = create_connection(\"nhl_info.db\")"
   ]
  },
  {
   "cell_type": "code",
   "execution_count": null,
   "metadata": {},
   "outputs": [],
   "source": [
    "# create database path, engin and connection\n",
    "database_path = \"nhl_info.db\"\n",
    "engine = create_engine(f\"sqlite:///{database_path}\")\n",
    "conn = engine.connect()\n",
    "# Base = automap_base()\n",
    "# Base.classes.keys()"
   ]
  },
  {
   "cell_type": "code",
   "execution_count": null,
   "metadata": {},
   "outputs": [],
   "source": [
    "engine.execute(\n",
    "'CREATE TABLE players (\n",
    "    player_id = Column(Integer, primary_key=True)\n",
    "    firstName = Column(String(255))\n",
    "    lastName = Column(String(255))\n",
    "    nationality = Column(String(255))\n",
    "    birthCity = Column(String(255))\n",
    "    primaryPosition = Column(String(255))\n",
    "    birthDate = Column(String(255))\n",
    "    link = Column(String(255))\n",
    "    name = Column(String(255))\n",
    "\n",
    ")\n",
    "'')"
   ]
  },
  {
   "cell_type": "code",
   "execution_count": null,
   "metadata": {},
   "outputs": [],
   "source": [
    "# create classes and columns for the new tables ( palyers & headlines ) in new SQL database \n",
    "class Players(Base):\n",
    "    __tablename__ = 'players'\n",
    "    player_id = Column(Integer, primary_key=True)\n",
    "    firstName = Column(String(255))\n",
    "    lastName = Column(String(255))\n",
    "    nationality = Column(String(255))\n",
    "    birthCity = Column(String(255))\n",
    "    primaryPosition = Column(String(255))\n",
    "    birthDate = Column(String(255))\n",
    "    link = Column(String(255))\n",
    "    name = Column(String(255))\n",
    "\n",
    "class Headlines(Base):\n",
    "    __tablename__ = 'headlines'\n",
    "    id = Column(Integer, primary_key=True)\n",
    "    headline = Column(String(3948))"
   ]
  },
  {
   "cell_type": "code",
   "execution_count": null,
   "metadata": {},
   "outputs": [],
   "source": [
    "Players = Base.classes.players\n",
    "Headlines = Base.classes.headlines"
   ]
  },
  {
   "cell_type": "code",
   "execution_count": null,
   "metadata": {},
   "outputs": [],
   "source": [
    "# get data back from csv files \n",
    "players = pd.read_csv('player_info.csv')\n",
    "headlines = pd.read_csv('headlines.csv')\n",
    "players_headlines = pd.read_csv('players_headlines.csv')"
   ]
  },
  {
   "cell_type": "code",
   "execution_count": null,
   "metadata": {},
   "outputs": [],
   "source": [
    "type(players)"
   ]
  },
  {
   "cell_type": "code",
   "execution_count": null,
   "metadata": {},
   "outputs": [],
   "source": [
    "print(len(players))"
   ]
  },
  {
   "cell_type": "code",
   "execution_count": null,
   "metadata": {},
   "outputs": [],
   "source": [
    "players_headlines.head()"
   ]
  },
  {
   "cell_type": "code",
   "execution_count": null,
   "metadata": {},
   "outputs": [],
   "source": [
    "headlines.head()"
   ]
  },
  {
   "cell_type": "code",
   "execution_count": null,
   "metadata": {},
   "outputs": [],
   "source": [
    "# Convert pandas dataframes to sql files \n",
    "players.to_sql('players',conn)\n",
    "headlines.to_sql('headlines',conn)\n",
    "players_headlines.to_sql('players_headlines',conn)"
   ]
  },
  {
   "cell_type": "code",
   "execution_count": null,
   "metadata": {},
   "outputs": [],
   "source": [
    "test = engine.execute('SELECT * FROM players_headlines where firstName = \"Daniel\"').fetchall()\n",
    "test"
   ]
  },
  {
   "cell_type": "code",
   "execution_count": null,
   "metadata": {},
   "outputs": [],
   "source": [
    "# Create a Specific Instance of the Players and Headlines classes\n",
    "# ----------------------------------\n",
    "# dog = Dog(name=\"Fido\", color='Brown', age=4)\n",
    "# cat = Cat(name=\"Whiskers\", color=\"Gray\", age=7)\n",
    "for player in players.rows:\n",
    "    print(player)"
   ]
  },
  {
   "cell_type": "code",
   "execution_count": null,
   "metadata": {},
   "outputs": [],
   "source": [
    "for headline in headlines:\n",
    "    print(headline)"
   ]
  },
  {
   "cell_type": "code",
   "execution_count": null,
   "metadata": {},
   "outputs": [],
   "source": [
    "# Create Database Connection\n",
    "# ----------------------------------\n",
    "conn = engine.connect()"
   ]
  },
  {
   "cell_type": "code",
   "execution_count": null,
   "metadata": {},
   "outputs": [],
   "source": [
    "# Create a \"Metadata\" Layer That Abstracts our SQL Database\n",
    "# ----------------------------------\n",
    "Base.metadata.create_all(engine)"
   ]
  },
  {
   "cell_type": "code",
   "execution_count": null,
   "metadata": {},
   "outputs": [],
   "source": [
    "# Create a Session Object to Connect to DB\n",
    "# ----------------------------------\n",
    "from sqlalchemy.orm import Session\n",
    "session = Session(bind=engine)"
   ]
  },
  {
   "cell_type": "code",
   "execution_count": null,
   "metadata": {},
   "outputs": [],
   "source": []
  }
 ],
 "metadata": {
  "kernelspec": {
   "display_name": "Python 3",
   "language": "python",
   "name": "python3"
  },
  "language_info": {
   "codemirror_mode": {
    "name": "ipython",
    "version": 3
   },
   "file_extension": ".py",
   "mimetype": "text/x-python",
   "name": "python",
   "nbconvert_exporter": "python",
   "pygments_lexer": "ipython3",
   "version": "3.7.1"
  }
 },
 "nbformat": 4,
 "nbformat_minor": 2
}
